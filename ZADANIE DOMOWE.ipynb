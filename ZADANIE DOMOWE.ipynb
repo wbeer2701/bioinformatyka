{
 "cells": [
  {
   "cell_type": "code",
   "execution_count": 2,
   "metadata": {},
   "outputs": [],
   "source": [
    "def sylaby(tekst):\n",
    "    samogloski = [\"a\", \"e\", \"i\", \"o\", \"u\", \"y\", \"ą\", \"ę\", \"ó\"]\n",
    "    sylaby = []\n",
    "    sylaba = \"\"\n",
    "    j = 1\n",
    "    k = 0\n",
    "    for i in range(len(tekst)):\n",
    "        if tekst[i] in samogloski:\n",
    "            if tekst[i] == \"i\" and tekst[i + 1] in samogloski:\n",
    "                sylaba += tekst[i]\n",
    "            else:\n",
    "                sylaba += tekst[i]\n",
    "                sylaby.append(sylaba)\n",
    "                sylaba = \"\"\n",
    "        else:\n",
    "            sylaba += tekst[i]\n",
    "    while tekst[-j] not in samogloski:\n",
    "        j += 1\n",
    "        k += 1\n",
    "        sylaby[-1] += tekst[-k:]\n",
    "\n",
    "    return sylaby"
   ]
  },
  {
   "cell_type": "code",
   "execution_count": 7,
   "metadata": {},
   "outputs": [
    {
     "name": "stdout",
     "output_type": "stream",
     "text": [
      "['pie', 'sek']\n"
     ]
    }
   ],
   "source": [
    "print(sylaby(\"piesek\"))"
   ]
  },
  {
   "cell_type": "code",
   "execution_count": null,
   "metadata": {},
   "outputs": [],
   "source": []
  }
 ],
 "metadata": {
  "kernelspec": {
   "display_name": "Python 3",
   "language": "python",
   "name": "python3"
  },
  "language_info": {
   "codemirror_mode": {
    "name": "ipython",
    "version": 3
   },
   "file_extension": ".py",
   "mimetype": "text/x-python",
   "name": "python",
   "nbconvert_exporter": "python",
   "pygments_lexer": "ipython3",
   "version": "3.8.3"
  }
 },
 "nbformat": 4,
 "nbformat_minor": 4
}
